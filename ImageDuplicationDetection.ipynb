{
 "cells": [
  {
   "cell_type": "code",
   "execution_count": 1,
   "metadata": {},
   "outputs": [],
   "source": [
    "import os\n",
    "import spacy\n",
    "import re\n",
    "from dateutil.parser import *\n",
    "import textract\n",
    "import json"
   ]
  },
  {
   "cell_type": "code",
   "execution_count": 2,
   "metadata": {},
   "outputs": [],
   "source": [
    "nlp = spacy.load('en_core_web_md')"
   ]
  },
  {
   "cell_type": "code",
   "execution_count": 3,
   "metadata": {},
   "outputs": [
    {
     "name": "stdout",
     "output_type": "stream",
     "text": [
      "PDF files in the folder:\n",
      "RED BULL CHERRY FLAVOR LAUNCH.docx\n"
     ]
    }
   ],
   "source": [
    "folder_path = r'C:\\Users\\karth\\Desktop\\Capstone\\NER\\Data\\DealSheets'\n",
    "all_files = os.listdir(folder_path)\n",
    "all_pdfs = [file for file in all_files if file.endswith('.pdf') or file.endswith('.docx')]\n",
    "print(\"PDF files in the folder:\")\n",
    "for pdf in all_pdfs:\n",
    "    print(pdf)"
   ]
  },
  {
   "cell_type": "code",
   "execution_count": 4,
   "metadata": {},
   "outputs": [],
   "source": [
    "import queue\n",
    "import os\n",
    "from spire.doc import *\n",
    "from spire.doc.common import *\n",
    "\n",
    "def extract_images_from_docx(input_file, output_path):\n",
    "    # Create a Document instance\n",
    "    document = Document()\n",
    "    # Load the input Word document\n",
    "    document.LoadFromFile(input_file)\n",
    "\n",
    "    # Create the output directory if it doesn't exist\n",
    "    os.makedirs(output_path, exist_ok=True)\n",
    "\n",
    "    # Create a list to store the extracted image data\n",
    "    images = []\n",
    "\n",
    "    # Initialize a queue to store document elements for traversal\n",
    "    nodes = queue.Queue()\n",
    "    nodes.put(document)\n",
    "\n",
    "    # Traverse through the document elements\n",
    "    while not nodes.empty():\n",
    "        node = nodes.get()\n",
    "        for i in range(node.ChildObjects.Count):\n",
    "            obj = node.ChildObjects[i]\n",
    "            # Find the images\n",
    "            if isinstance(obj, DocPicture):\n",
    "                picture = obj\n",
    "                # Append the image data to the list\n",
    "                data_bytes = picture.ImageBytes\n",
    "                images.append(data_bytes)\n",
    "            elif isinstance(obj, ICompositeObject):\n",
    "                nodes.put(obj)\n",
    "\n",
    "    # Save the image data to image files\n",
    "    for i, image_data in enumerate(images):\n",
    "        file_name = f\"Image-{i}.png\"\n",
    "        with open(os.path.join(output_path, file_name), 'wb') as image_file:\n",
    "            image_file.write(image_data)\n",
    "\n",
    "    document.Close()"
   ]
  },
  {
   "cell_type": "markdown",
   "metadata": {},
   "source": [
    "## Packaging it all together"
   ]
  },
  {
   "cell_type": "code",
   "execution_count": 5,
   "metadata": {},
   "outputs": [
    {
     "name": "stdout",
     "output_type": "stream",
     "text": [
      "Processing File : C:\\Users\\karth\\Desktop\\Capstone\\NER\\Data\\DealSheets\\RED BULL CHERRY FLAVOR LAUNCH.docx\n"
     ]
    }
   ],
   "source": [
    "for file in all_pdfs:\n",
    "\n",
    "    file = folder_path+\"\\\\\"+file\n",
    "    print(\"Processing File :\", file)\n",
    "    extract_images_from_docx(file,'./Data/DocumentImages')"
   ]
  },
  {
   "cell_type": "code",
   "execution_count": 6,
   "metadata": {},
   "outputs": [],
   "source": [
    "# import os\n",
    "# from PIL import Image\n",
    "\n",
    "# def image_to_hex(image_path):\n",
    "#     img = Image.open(image_path)\n",
    "#     img = img.resize((100, 100))  # Resize the image if needed\n",
    "#     img = img.convert('L')  # Convert to grayscale if needed\n",
    "#     hex_representation = img.tobytes().hex()\n",
    "#     return hex_representation\n",
    "\n",
    "# def process_images(folder_path, output_file):\n",
    "#     with open(output_file, 'w') as f:\n",
    "#         for filename in os.listdir(folder_path):\n",
    "#             if filename.endswith(('.png', '.jpg', '.jpeg')):\n",
    "#                 image_path = os.path.join(folder_path, filename)\n",
    "#                 hex_value = image_to_hex(image_path)\n",
    "#                 f.write(f\"{filename}: {hex_value}\\n\")\n",
    "\n",
    "# folder_path = './Data/DocumentImages'\n",
    "# output_file = './Data/hex_values.txt'\n",
    "# process_images(folder_path, output_file)\n",
    "# print(\"Hex values saved to:\", output_file)\n"
   ]
  },
  {
   "cell_type": "markdown",
   "metadata": {},
   "source": [
    "## Converting the images to hex value"
   ]
  },
  {
   "cell_type": "code",
   "execution_count": 7,
   "metadata": {},
   "outputs": [
    {
     "name": "stdout",
     "output_type": "stream",
     "text": [
      "Image hashes saved to: ./Data/hex_values.txt\n"
     ]
    }
   ],
   "source": [
    "from PIL import Image\n",
    "import imagehash\n",
    "import os\n",
    "\n",
    "def calculate_image_hash1(image_path):\n",
    "    img = Image.open(image_path)\n",
    "    return str(imagehash.average_hash(img))\n",
    "\n",
    "def process_images1(folder_path, output_file):\n",
    "    with open(output_file, 'w') as f:\n",
    "        for filename in os.listdir(folder_path):\n",
    "            if filename.endswith(('.png', '.jpg', '.jpeg')):\n",
    "                image_path = os.path.join(folder_path, filename)\n",
    "                image_hash = calculate_image_hash1(image_path)\n",
    "                f.write(f\"{filename}: {image_hash}\\n\")\n",
    "\n",
    "folder_path = './Data/DocumentImages'\n",
    "output_file = './Data/hex_values.txt'\n",
    "process_images1(folder_path, output_file)\n",
    "print(\"Image hashes saved to:\", output_file)\n"
   ]
  },
  {
   "cell_type": "code",
   "execution_count": 8,
   "metadata": {},
   "outputs": [
    {
     "name": "stdout",
     "output_type": "stream",
     "text": [
      "Hex values stored in Redis.\n"
     ]
    }
   ],
   "source": [
    "import os\n",
    "from PIL import Image\n",
    "import redis\n",
    "\n",
    "def image_to_hex(image_path):\n",
    "    img = Image.open(image_path)\n",
    "    return str(imagehash.average_hash(img))\n",
    "\n",
    "def process_images(folder_path, redis_host, redis_port, redis_db):\n",
    "    r = redis.Redis(host=redis_host, port=redis_port, db=redis_db)\n",
    "    for filename in os.listdir(folder_path):\n",
    "        if filename.endswith(('.png', '.jpg', '.jpeg')):\n",
    "            image_path = os.path.join(folder_path, filename)\n",
    "            hex_value = image_to_hex(image_path)\n",
    "            # Store hex value in Redis with filename as key\n",
    "            r.set(hex_value, filename)\n",
    "\n",
    "# Example usage\n",
    "folder_path = './Data/DocumentImages'\n",
    "redis_host = 'localhost'  # Replace with your Redis server host\n",
    "redis_port = 6379  # Replace with your Redis server port\n",
    "redis_db = 0  # Replace with your Redis database index\n",
    "process_images(folder_path, redis_host, redis_port, redis_db)\n",
    "print(\"Hex values stored in Redis.\")\n"
   ]
  },
  {
   "cell_type": "code",
   "execution_count": 9,
   "metadata": {},
   "outputs": [
    {
     "name": "stdout",
     "output_type": "stream",
     "text": [
      "Key: ffa7e7e3c3c7c7ff, Value: Image-0.png\n",
      "Key: 7cfce21282e0f8fe, Value: Image-1.png\n"
     ]
    }
   ],
   "source": [
    "def display_all_keys(redis_host, redis_port, redis_db):\n",
    "    r = redis.Redis(host=redis_host, port=redis_port, db=redis_db)\n",
    "    keys = r.keys()\n",
    "    for key in keys:\n",
    "        value = r.get(key).decode('utf-8')  # Decode bytes to string\n",
    "        print(f\"Key: {key.decode('utf-8')}, Value: {value}\")\n",
    "        \n",
    "display_all_keys(redis_host, redis_port, redis_db)"
   ]
  },
  {
   "cell_type": "markdown",
   "metadata": {},
   "source": [
    "## To delet all the keys from the Redis"
   ]
  },
  {
   "cell_type": "code",
   "execution_count": 23,
   "metadata": {},
   "outputs": [
    {
     "name": "stdout",
     "output_type": "stream",
     "text": [
      "All keys deleted from the Redis database.\n"
     ]
    }
   ],
   "source": [
    "def delete_all_keys(redis_host, redis_port, redis_db):\n",
    "    r = redis.Redis(host=redis_host, port=redis_port, db=redis_db)\n",
    "    r.flushdb()\n",
    "    print(\"All keys deleted from the Redis database.\")\n",
    "    \n",
    "delete_all_keys(redis_host, redis_port, redis_db)"
   ]
  },
  {
   "cell_type": "markdown",
   "metadata": {},
   "source": [
    "## Checking if the image is duplicated"
   ]
  },
  {
   "cell_type": "code",
   "execution_count": 10,
   "metadata": {},
   "outputs": [
    {
     "name": "stdout",
     "output_type": "stream",
     "text": [
      "Image Image-0.png is duplicated.\n",
      "Image Image-1.png is duplicated.\n"
     ]
    }
   ],
   "source": [
    "import os\n",
    "from PIL import Image\n",
    "import redis\n",
    "\n",
    "def image_to_hex(image_path):\n",
    "    img = Image.open(image_path)\n",
    "    return str(imagehash.average_hash(img))\n",
    "\n",
    "def process_images(folder_path, redis_host, redis_port, redis_db):\n",
    "    r = redis.Redis(host=redis_host, port=redis_port, db=redis_db)\n",
    "    for filename in os.listdir(folder_path):\n",
    "        if filename.endswith(('.png', '.jpg', '.jpeg')):\n",
    "            image_path = os.path.join(folder_path, filename)\n",
    "            hex_value = image_to_hex(image_path)\n",
    "            # Check if the key already exists in Redis\n",
    "            if r.exists(hex_value):\n",
    "                print(f\"Image {filename} is duplicated.\")\n",
    "            else:\n",
    "                # Store hex value in Redis with filename as key\n",
    "                r.set(hex_value, filename)\n",
    "\n",
    "# Example usage\n",
    "folder_path = './Data/DocumentImages'\n",
    "redis_host = 'localhost'  # Replace with your Redis server host\n",
    "redis_port = 6379  # Replace with your Redis server port\n",
    "redis_db = 0  # Replace with your Redis database index\n",
    "process_images(folder_path, redis_host, redis_port, redis_db)\n"
   ]
  }
 ],
 "metadata": {
  "kernelspec": {
   "display_name": "Python 3",
   "language": "python",
   "name": "python3"
  },
  "language_info": {
   "codemirror_mode": {
    "name": "ipython",
    "version": 3
   },
   "file_extension": ".py",
   "mimetype": "text/x-python",
   "name": "python",
   "nbconvert_exporter": "python",
   "pygments_lexer": "ipython3",
   "version": "3.8.6"
  }
 },
 "nbformat": 4,
 "nbformat_minor": 4
}
