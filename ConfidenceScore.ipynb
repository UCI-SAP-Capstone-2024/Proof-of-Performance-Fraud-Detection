{
 "cells": [
  {
   "cell_type": "code",
   "execution_count": 1,
   "metadata": {},
   "outputs": [],
   "source": [
    "def check_image_manipulation(image):\n",
    "    pass\n",
    "\n",
    "def check_ai_generated_image(image):\n",
    "    pass\n",
    "\n",
    "def is_image_already_used(image):\n",
    "    pass\n",
    "\n",
    "def are_store_details_correct(image):\n",
    "    pass\n",
    "\n",
    "def are_details_valid_in_deal_sheet(image):\n",
    "    pass"
   ]
  },
  {
   "cell_type": "code",
   "execution_count": 2,
   "metadata": {},
   "outputs": [],
   "source": [
    "def calculate_final_confidence_score(image):\n",
    "    if is_image_already_used(image):\n",
    "        return -1\n",
    "    \n",
    "    scores = {\n",
    "        'deal_sheet': are_details_valid_in_deal_sheet(image) * 0.50,\n",
    "        'image_manipulation': check_image_manipulation(image) * 0.25,\n",
    "        'ai_generated_image': check_ai_generated_image(image) * 0.15,\n",
    "        'store_details': are_store_details_correct(image) * 0.10,\n",
    "    }\n",
    "    \n",
    "    final_score = sum(scores.values()) * 100\n",
    "    return final_score"
   ]
  },
  {
   "cell_type": "code",
   "execution_count": 3,
   "metadata": {},
   "outputs": [],
   "source": [
    "def decide_action_based_on_score(image):\n",
    "    score = calculate_final_confidence_score(image)\n",
    "    \n",
    "    if score == -1:\n",
    "        return \"Reject: The image is already used\"\n",
    "    elif score < 30:\n",
    "        return \"Reject: High probability of fraud\"\n",
    "    elif score > 70:\n",
    "        return \"Auto-Pass: No apparent signs of fraud\"\n",
    "    else:\n",
    "        return \"Manual Review: Potential concerns detected\""
   ]
  },
  {
   "cell_type": "code",
   "execution_count": null,
   "metadata": {},
   "outputs": [],
   "source": [
    "image = \"\"\n",
    "decision = decide_action_based_on_score(image)\n",
    "print(decision)"
   ]
  }
 ],
 "metadata": {
  "kernelspec": {
   "display_name": "Python 3",
   "language": "python",
   "name": "python3"
  },
  "language_info": {
   "codemirror_mode": {
    "name": "ipython",
    "version": 3
   },
   "file_extension": ".py",
   "mimetype": "text/x-python",
   "name": "python",
   "nbconvert_exporter": "python",
   "pygments_lexer": "ipython3",
   "version": "3.8.6"
  }
 },
 "nbformat": 4,
 "nbformat_minor": 4
}
